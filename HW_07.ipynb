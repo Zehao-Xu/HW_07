{
 "cells": [
  {
   "cell_type": "markdown",
   "id": "2e86800b",
   "metadata": {},
   "source": [
    "# HW_07"
   ]
  },
  {
   "cell_type": "markdown",
   "id": "c0d56d61",
   "metadata": {},
   "source": [
    "## Question 1:\n",
    "\n",
    "Simple linear regression (SLR) predicts a dependent variable through one independent variable, while multiple linear regression (MLR) predicts the dependent variable through multiple independent variables together. The advantage of MLR is that multiple factors can be taken into account at the same time, making the prediction more accurate and comprehensive.\n",
    "\n",
    "Continuous variables refer to consecutive numbers, such as height and weight. Indicator variables, on the other hand, refer to categorizations, such as gender, with 0 or 1 being used to indicate these categorizations.\n",
    "\n",
    "The inclusion of both continuous and indicator variables in a MLR model will have different starting points for each category, but the slopes will be the same. In contrast, when adding the interaction terms of continuous and indicator variables in MLR, the model not only has different starting points, but also different slopes.\n",
    "\n",
    "In a multiple linear regression model, if a dependent variable is a non-binary categorical variable, such as the colors red, blue, and green, we use an indicator variable to represent these categories. We usually use a \"number of categories minus\" one indicator variable to represent all categories, and we also keep one category as the baseline group. The purpose of the baseline group is to serve as a reference for comparison with the other categories. Suppose we have a regression model for house prices in different regions, and there are three regions: North, South and West. We can select “North” as the baseline group and create indicator variables for “South” and “West”.\n",
    "\n",
    "The model is of the form: \n",
    "\n",
    "                       y = b0 + b1(south) + b2(west)\n",
    "\n",
    "In this way, the baseline group “north” helps us to understand the differences between the other regions relative to it, which makes the model easier to interpret and compare."
   ]
  },
  {
   "cell_type": "code",
   "execution_count": null,
   "id": "3f561ce4",
   "metadata": {},
   "outputs": [],
   "source": []
  }
 ],
 "metadata": {
  "kernelspec": {
   "display_name": "Python 3 (ipykernel)",
   "language": "python",
   "name": "python3"
  },
  "language_info": {
   "codemirror_mode": {
    "name": "ipython",
    "version": 3
   },
   "file_extension": ".py",
   "mimetype": "text/x-python",
   "name": "python",
   "nbconvert_exporter": "python",
   "pygments_lexer": "ipython3",
   "version": "3.11.6"
  }
 },
 "nbformat": 4,
 "nbformat_minor": 5
}
